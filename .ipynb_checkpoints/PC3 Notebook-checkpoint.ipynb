{
 "cells": [
  {
   "cell_type": "markdown",
   "metadata": {},
   "source": [
    "# Árboles de Decisión, Proyecto Corto 3 Inteligencia Artificial"
   ]
  },
  {
   "cell_type": "markdown",
   "metadata": {},
   "source": [
    "Enlace de Github: https://github.com/brayanfa07/IA-Proyecto-Corto-3"
   ]
  },
  {
   "cell_type": "markdown",
   "metadata": {},
   "source": [
    "#### Integrantes"
   ]
  },
  {
   "cell_type": "markdown",
   "metadata": {},
   "source": [
    "- Brayan Fajardo Alvarado\n",
    "- Fabricio Castillo Alvarado\n",
    "- Gerald Mora Mora"
   ]
  },
  {
   "cell_type": "markdown",
   "metadata": {},
   "source": [
    "## Concepto"
   ]
  },
  {
   "cell_type": "code",
   "execution_count": null,
   "metadata": {},
   "outputs": [],
   "source": []
  },
  {
   "cell_type": "markdown",
   "metadata": {},
   "source": [
    "## Ejemplo de código"
   ]
  },
  {
   "cell_type": "code",
   "execution_count": 12,
   "metadata": {},
   "outputs": [
    {
     "name": "stderr",
     "output_type": "stream",
     "text": [
      "/home/brayan/anaconda3/lib/python3.6/site-packages/ipykernel_launcher.py:12: VisibleDeprecationWarning: Reading unicode strings without specifying the encoding argument is deprecated. Set the encoding, use None for the system default.\n",
      "  if sys.path[0] == '':\n"
     ]
    },
    {
     "ename": "AttributeError",
     "evalue": "'numpy.ndarray' object has no attribute 'target'",
     "output_type": "error",
     "traceback": [
      "\u001b[0;31m---------------------------------------------------------------------------\u001b[0m",
      "\u001b[0;31mAttributeError\u001b[0m                            Traceback (most recent call last)",
      "\u001b[0;32m<ipython-input-12-fa030456091d>\u001b[0m in \u001b[0;36m<module>\u001b[0;34m()\u001b[0m\n\u001b[1;32m     13\u001b[0m \u001b[0;34m\u001b[0m\u001b[0m\n\u001b[1;32m     14\u001b[0m \u001b[0;34m\u001b[0m\u001b[0m\n\u001b[0;32m---> 15\u001b[0;31m \u001b[0mAEntrena\u001b[0m\u001b[0;34m,\u001b[0m \u001b[0mAPruebas\u001b[0m\u001b[0;34m,\u001b[0m \u001b[0mBEntrena\u001b[0m\u001b[0;34m,\u001b[0m \u001b[0mBPruebas\u001b[0m \u001b[0;34m=\u001b[0m \u001b[0mtrain_test_split\u001b[0m\u001b[0;34m(\u001b[0m\u001b[0mcompra\u001b[0m\u001b[0;34m.\u001b[0m\u001b[0mdata\u001b[0m\u001b[0;34m,\u001b[0m \u001b[0mcompra\u001b[0m\u001b[0;34m.\u001b[0m\u001b[0mtarget\u001b[0m\u001b[0;34m)\u001b[0m\u001b[0;34m\u001b[0m\u001b[0m\n\u001b[0m\u001b[1;32m     16\u001b[0m \u001b[0;34m\u001b[0m\u001b[0m\n\u001b[1;32m     17\u001b[0m \u001b[0mclasificadorArbol\u001b[0m \u001b[0;34m=\u001b[0m \u001b[0mtree\u001b[0m\u001b[0;34m.\u001b[0m\u001b[0mDecisionTreeClassifier\u001b[0m\u001b[0;34m(\u001b[0m\u001b[0;34m)\u001b[0m\u001b[0;34m\u001b[0m\u001b[0m\n",
      "\u001b[0;31mAttributeError\u001b[0m: 'numpy.ndarray' object has no attribute 'target'"
     ]
    }
   ],
   "source": [
    "#from sklearn.datasets import load_iris\n",
    "from sklearn import tree\n",
    "from sklearn.model_selection import train_test_split\n",
    "from sklearn.tree import export_graphviz\n",
    "import graphviz\n",
    "from subprocess import check_call\n",
    "from IPython.display import Image as PImage\n",
    "import pandas as pd\n",
    "from numpy import genfromtxt\n",
    "\n",
    "\n",
    "df = pd.read_csv('data.csv')\n",
    "df.values\n",
    "\n",
    "AEntrena, APruebas, BEntrena, BPruebas = train_test_split(compra.data, compra.target)\n",
    "\n",
    "clasificadorArbol = tree.DecisionTreeClassifier()\n",
    "clasificadorArbol.fit(AEntrena, BEntrena)\n",
    "\n",
    "tree.DecisionTreeClassifier(criterion='gini', splitter='best',\n",
    "                       min_samples_leaf=1, min_weight_fraction_leaf= 0.0,\n",
    "                       max_features=None, random_state= None, max_leaf_nodes=None,\n",
    "                       min_impurity_split= None, class_weight=None, presort = False)\n",
    "\n",
    "\n",
    "print(\"Aprendio en un porcentaje de: \")\n",
    "print(clasificadorArbol.score(APruebas,BPruebas))\n",
    "print(clasificadorArbol.score(AEntrena,BEntrena))\n",
    "\n",
    "tree.export_graphviz(clasificadorArbol,out_file='arbol.dot',class_names=compra.target_names,\n",
    "                feature_names=compra.feature_names, impurity=False, filled=True)\n",
    "\n",
    "with open('arbol.dot') as f:\n",
    "    dot_graph = f.read()\n",
    "graphviz.Source(dot_graph).view()\n",
    "\n",
    "check_call(['dot','-Tpng',r'arbol.dot','-o',r'tree1.png'])\n",
    "PImage(\"tree1.png\")\n",
    "\n"
   ]
  },
  {
   "cell_type": "markdown",
   "metadata": {},
   "source": [
    "## Ejemplo gráfico"
   ]
  },
  {
   "cell_type": "code",
   "execution_count": null,
   "metadata": {},
   "outputs": [],
   "source": []
  },
  {
   "cell_type": "markdown",
   "metadata": {},
   "source": [
    "## Random Forest"
   ]
  },
  {
   "cell_type": "markdown",
   "metadata": {},
   "source": [
    "# Random Forest\n",
    "\n",
    "Es una técnica que combina una cantidad grande de arboles de decisión independientes probados sobre conjuntos de datos aleatorios con igual distribución.\n",
    "## ¿Como construir un Random Forest?\n",
    "\n",
    "Para el *proceso de aprendizaje* se empieza con la creación de varios arboles de decisión independientes, para los cuales cada uno tendrá un conjunto de datos ligeramente diferenciados. Osea que solamente se altera el set de datos iniciales.\n",
    "Por lo tanto se debe considerar:\n",
    "- Seleccionar aleatoria-mente un porcentaje de datos de la muestra total.\n",
    "- En cada nodo, al seleccionar una partición optima, se tendrá en cuenta una sola partición de los atributos que se eligen al azar en cada ocasión.\n",
    "\n",
    "Para el *proceso de clasificación* se llevara a cabo de la siguiente forma:\n",
    "- Cada árbol se avaluara de forma independiente y la predicción sera la media de todos los arboles que se estén utilizando. La proporción de arboles que toman una misma respuesta se interpreta como la probabilidad de la misma.\n",
    "\n",
    "``` python\n",
    "\n",
    "# Lo primero que hay que hacer es incluir las librerias necesarias para realizar la ejecucion.\n",
    "from pandas import Series, DataFrame\n",
    "from matplotlib import pyplot\n",
    "import pandas as pd\n",
    "import numpy as np\n",
    "import os\n",
    "import matplotlib.pylab as plt\n",
    "from sklearn.cross_validation import train_test_split\n",
    "from sklearn.tree import DecisionTreeClassifier\n",
    "from sklearn.metrics import classification_report\n",
    "import sklearn.metrics\n",
    "from sklearn import datasets\n",
    "from sklearn.ensemble import ExtraTreesClassifier\n",
    "from sklearn.ensemble import RandomForestClassifier\n",
    "\n",
    "# Cargamos el fichero de datos para utilizar, el cual es un csv en este caso. archivo.csv contiene los datos necesarios para la creacion del arbol.\n",
    "AH_data = pd.read_csv(“archivo.csv”)\n",
    "\n",
    "# Se eliminan los datos con valores missing ya que Python presenta errores al hacer árboles con datos missing\n",
    "data_clean = AH_data.dropna()\n",
    "\n",
    "# Para comprobar que el archivo se ha leído bien, se puede listar las variables en el fichero\n",
    "data_clean.dtypes\n",
    "# Principales estadísticos\n",
    "data_clean.describe()\n",
    "\n",
    "#Se indican las variables predictoras y debajo la variable objetivo. Cada uno con los nombres de las variables que se tienen en el fichero csv. En este caso se intercambiaria VARPRED1, VARPRED2, VARPRED3 por los nombres de las variables del fichero.\n",
    "predictors = data_clean[[‘VARPRED1’, ‘VARPRED2′,’VARPRED3’]] \n",
    "\n",
    "targets = data_clean.TREG1\n",
    "\n",
    "# Se crea la muestra de entrenamiento y de test, tanto para predictores como para la variable objetivo, siendo test el 40%\n",
    "pred_train, pred_test, tar_train, tar_test = train_test_split(predictors, targets, test_size=.4)\n",
    "\n",
    "# Se inicializa el algoritmo Random Forest y se indica el número de árboles que se van a construir\n",
    "classifier = RandomForestClassifier(n_estimators=25)\n",
    "\n",
    "# Se construye el modelo sobre los datos de entrenamiento creados anteriormente\n",
    "classifier = classifier.fit(pred_train,tar_train)\n",
    "\n",
    "# Se realiza una prediccion para los valores del grupo Test\n",
    "predictions=classifier.predict(pred_test)\n",
    "\n",
    "# Se establece la matriz de confusión de las predicciones del grupo Test.\n",
    "sklearn.metrics.confusion_matrix(tar_test,predictions)\n",
    "\n",
    "# Se calcula el índice Accuracy Score, que resume la Matriz de Confusión y la cantidad de aciertos.\n",
    "sklearn.metrics.accuracy_score(tar_test, predictions)\n",
    "\n",
    "# Para obtener la importancia de cada variable se inicializa el ExtraTreesClassifier\n",
    "model = ExtraTreesClassifier()\n",
    "\n",
    "# Se ajusta el modelo\n",
    "model.fit(pred_train,tar_train)\n",
    "\n",
    "# Se puede solicitar y visualizar la importancia de cada variable\n",
    "print(model.feature_importances_)\n",
    "\n",
    "# En caso de que se tengan muchas variables, se pueben visualizar con el comando “list”\n",
    "list(model.feature_importances_)\n",
    "\n",
    "# Para dibujar todas las variables con su importancia respectiva\n",
    "pyplot.bar(range(len(model.feature_importances_)), model.feature_importances_)\n",
    "pyplot.show()\n",
    "\n",
    "# Para ver cuánto ha aportado cada nuevo árbol que se ha construido\n",
    "trees=range(25)\n",
    "accuracy=np.zeros(25)\n",
    "for idx in range(len(trees)):\n",
    "classifier=RandomForestClassifier(n_estimators=idx + 1)\n",
    "classifier=classifier.fit(pred_train,tar_train)\n",
    "predictions=classifier.predict(pred_test)\n",
    "accuracy[idx]=sklearn.metrics.accuracy_score(tar_test, predictions)\n",
    "plt.cla()\n",
    "plt.plot(trees, accuracy)\n",
    "```"
   ]
  },
  {
   "cell_type": "markdown",
   "metadata": {},
   "source": [
    "## Referencias Bibliográficas"
   ]
  },
  {
   "cell_type": "code",
   "execution_count": null,
   "metadata": {},
   "outputs": [],
   "source": []
  }
 ],
 "metadata": {
  "kernelspec": {
   "display_name": "Python 3",
   "language": "python",
   "name": "python3"
  },
  "language_info": {
   "codemirror_mode": {
    "name": "ipython",
    "version": 3
   },
   "file_extension": ".py",
   "mimetype": "text/x-python",
   "name": "python",
   "nbconvert_exporter": "python",
   "pygments_lexer": "ipython3",
   "version": "3.6.5"
  }
 },
 "nbformat": 4,
 "nbformat_minor": 2
}
